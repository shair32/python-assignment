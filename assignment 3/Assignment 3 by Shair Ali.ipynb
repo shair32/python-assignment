{
 "cells": [
  {
   "cell_type": "code",
   "execution_count": 13,
   "id": "23880140",
   "metadata": {},
   "outputs": [
    {
     "name": "stdout",
     "output_type": "stream",
     "text": [
      "Twinkle, twinkle, little star, \n",
      "\tHow I wonder what you are! \n",
      "\t\tUp above the world so high, \n",
      "\t\tLike a diamond in the sky. \n",
      "Twinkle, twinkle, little star, \n",
      "\tHow I wonder what you are!\n"
     ]
    }
   ],
   "source": [
    "#Question no 1\n",
    "\n",
    "print(\"Twinkle, twinkle, little star, \\n\\tHow I wonder what you are! \\n\\t\\tUp above the world so high, \\n\\t\\tLike a diamond in the sky. \\nTwinkle, twinkle, little star, \\n\\tHow I wonder what you are!\") "
   ]
  },
  {
   "cell_type": "code",
   "execution_count": 14,
   "id": "6cf683fb",
   "metadata": {},
   "outputs": [
    {
     "name": "stdout",
     "output_type": "stream",
     "text": [
      "My python version is 3.8.8 (default, Apr 13 2021, 15:08:03) [MSC v.1916 64 bit (AMD64)]\n"
     ]
    }
   ],
   "source": [
    "#Question no 2\n",
    "\n",
    "import sys\n",
    "print (\"My python version is \" + sys.version)\n"
   ]
  },
  {
   "cell_type": "code",
   "execution_count": 21,
   "id": "e592c1b4",
   "metadata": {},
   "outputs": [
    {
     "name": "stdout",
     "output_type": "stream",
     "text": [
      "current date and time is  2021-10-24 05:21:24.206566\n"
     ]
    }
   ],
   "source": [
    "#Question no 3.\n",
    "\n",
    "from datetime import datetime\n",
    "now = datetime.now()\n",
    " \n",
    "print(\"current date and time is \", now)"
   ]
  },
  {
   "cell_type": "code",
   "execution_count": 17,
   "id": "5095cb10",
   "metadata": {},
   "outputs": [
    {
     "name": "stdout",
     "output_type": "stream",
     "text": [
      "Input the radius of the circle : 45\n",
      "The area of the circle with radius 45.0 is: 6361.725123519331\n"
     ]
    }
   ],
   "source": [
    "#Question no 4\n",
    "\n",
    "from math import pi\n",
    "r = float(input (\"Input the radius of the circle : \"))\n",
    "print (\"The area of the circle with radius \" + str(r) + \" is: \" + str(pi * r**2))"
   ]
  },
  {
   "cell_type": "code",
   "execution_count": 18,
   "id": "c8e38f42",
   "metadata": {},
   "outputs": [
    {
     "name": "stdout",
     "output_type": "stream",
     "text": [
      "Input your First Name : Shair\n",
      "Input your Last Name : Ali\n",
      "Hello  Ali Shair\n"
     ]
    }
   ],
   "source": [
    "#Question no 5\n",
    "\n",
    "firstname = input(\"Input your First Name : \")\n",
    "lastname = input(\"Input your Last Name : \")\n",
    "print (\"Hello  \" + lastname + \" \" + firstname)"
   ]
  },
  {
   "cell_type": "code",
   "execution_count": 19,
   "id": "0f152043",
   "metadata": {},
   "outputs": [
    {
     "name": "stdout",
     "output_type": "stream",
     "text": [
      "enter first number: 23\n",
      "enter second number: 34\n",
      "The sum is:  57\n"
     ]
    }
   ],
   "source": [
    "#Question no 6\n",
    "a = int(input(\"enter first number: \"))\n",
    "b = int(input(\"enter second number: \"))\n",
    " \n",
    "sum = a + b\n",
    " \n",
    "print(\"The sum is: \", sum)"
   ]
  },
  {
   "cell_type": "code",
   "execution_count": 3,
   "id": "41d1776d",
   "metadata": {},
   "outputs": [
    {
     "name": "stdout",
     "output_type": "stream",
     "text": [
      "Enter Marks in English:   \t80\n",
      "Enter Marks in Maths:     \t90\n",
      "Enter Marks in Physics:   \t66\n",
      "Enter Marks in Chemistry: \t85\n",
      "Enter Marks in Urdu:      \t95\n",
      "Congratulations ! You have secured 'A Grade', and your percentage is  83.2\n"
     ]
    }
   ],
   "source": [
    "#Question no 7\n",
    "\n",
    "a=float(input(\"Enter Marks in English:   \\t\"))\n",
    "b=float(input(\"Enter Marks in Maths:     \\t\"))\n",
    "c=float(input(\"Enter Marks in Physics:   \\t\"))\n",
    "d=float(input(\"Enter Marks in Chemistry: \\t\"))\n",
    "e=float(input(\"Enter Marks in Urdu:      \\t\"))\n",
    "avg=((a+b+c+d+e)/500)*100 \n",
    "if(avg>=80 and avg<=100): \n",
    "     print(\"Congratulations ! You have secured 'A Grade', and your percentage is \", avg) \n",
    "elif(avg>=60 and avg<80): \n",
    "    print(\"Congratulations ! You have secured 'B Grade' your percentage is \", avg ) \n",
    "elif (avg>=40 and avg<60): \n",
    "    print(\"Congratulations ! You have secured 'C Grade', and your percentage is \", avg) \n",
    "elif (avg<40): \n",
    "    print(\"You are fail, your percentage is \", avg)\n",
    "else:\n",
    "    print(\"Invalid input\")"
   ]
  },
  {
   "cell_type": "code",
   "execution_count": 6,
   "id": "826a9806",
   "metadata": {},
   "outputs": [
    {
     "name": "stdout",
     "output_type": "stream",
     "text": [
      "Enter a number: 53\n",
      "53 is Odd number\n"
     ]
    }
   ],
   "source": [
    "#Questiion no 8\n",
    "\n",
    "num = int(input(\"Enter a number: \"))  \n",
    "if (num % 2) == 0:  \n",
    "   print(num, \"is Even number\")  \n",
    "else:  \n",
    "   print(num, \"is Odd number\")"
   ]
  },
  {
   "cell_type": "code",
   "execution_count": 11,
   "id": "70f71a99",
   "metadata": {},
   "outputs": [
    {
     "name": "stdout",
     "output_type": "stream",
     "text": [
      "Number of items in the list =  5\n"
     ]
    }
   ],
   "source": [
    "#Questiion no 9\n",
    "\n",
    "list1 = [\"Hello\", \"Shair Ali\", 1, 2, 3]\n",
    "print (\"Number of items in the list = \", len(list1))"
   ]
  },
  {
   "cell_type": "code",
   "execution_count": 8,
   "id": "3b64e779",
   "metadata": {},
   "outputs": [
    {
     "name": "stdout",
     "output_type": "stream",
     "text": [
      "Sum of all elements in given list:  755\n"
     ]
    }
   ],
   "source": [
    "#Questiion no 10\n",
    "\n",
    "list1 = [118, 59, 197, 108, 273]\n",
    "total = sum(list1)\n",
    "print(\"Sum of all elements in given list: \", total)"
   ]
  },
  {
   "cell_type": "code",
   "execution_count": 10,
   "id": "27489b8b",
   "metadata": {},
   "outputs": [
    {
     "name": "stdout",
     "output_type": "stream",
     "text": [
      "Largest element is: 899\n"
     ]
    }
   ],
   "source": [
    "#Questiion no 11\n",
    "\n",
    "list1 = [110, 280, 94, 425, 899]\n",
    "print(\"Largest element is:\", max(list1))"
   ]
  },
  {
   "cell_type": "code",
   "execution_count": 12,
   "id": "53e53dcb",
   "metadata": {},
   "outputs": [
    {
     "name": "stdout",
     "output_type": "stream",
     "text": [
      "1\n",
      "1\n",
      "2\n",
      "3\n"
     ]
    }
   ],
   "source": [
    "#Questiion no 12\n",
    "\n",
    "a = [1, 1, 2, 3, 5, 8, 13, 21, 34, 55, 89]\n",
    "\n",
    "for i in a:\n",
    "    if i < 5:\n",
    "        print(i)"
   ]
  },
  {
   "cell_type": "code",
   "execution_count": null,
   "id": "b9511fcf",
   "metadata": {},
   "outputs": [],
   "source": []
  }
 ],
 "metadata": {
  "kernelspec": {
   "display_name": "Python 3",
   "language": "python",
   "name": "python3"
  },
  "language_info": {
   "codemirror_mode": {
    "name": "ipython",
    "version": 3
   },
   "file_extension": ".py",
   "mimetype": "text/x-python",
   "name": "python",
   "nbconvert_exporter": "python",
   "pygments_lexer": "ipython3",
   "version": "3.8.8"
  }
 },
 "nbformat": 4,
 "nbformat_minor": 5
}
